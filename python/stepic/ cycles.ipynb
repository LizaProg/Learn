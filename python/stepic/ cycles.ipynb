{
 "cells": [
  {
   "cell_type": "code",
   "execution_count": 2,
   "metadata": {
    "collapsed": true
   },
   "outputs": [],
   "source": [
    "i = 0\n",
    "while i <= 10:\n",
    "    i = i + 1\n",
    "    if i > 7:\n",
    "        i = i + 2"
   ]
  },
  {
   "cell_type": "code",
   "execution_count": 4,
   "metadata": {
    "collapsed": false
   },
   "outputs": [
    {
     "name": "stdout",
     "output_type": "stream",
     "text": [
      "5\n",
      "*\n",
      "**\n",
      "***\n",
      "****\n",
      "*****\n"
     ]
    }
   ],
   "source": [
    "n = int(input())\n",
    "c = 1\n",
    "while c <= n:\n",
    "    print('*' * c)\n",
    "    c += 1"
   ]
  },
  {
   "cell_type": "code",
   "execution_count": 7,
   "metadata": {
    "collapsed": false
   },
   "outputs": [
    {
     "name": "stdout",
     "output_type": "stream",
     "text": [
      "*\n",
      "**\n",
      "***\n",
      "****\n",
      "*****\n"
     ]
    }
   ],
   "source": [
    "n = 5\n",
    "stars = \"*\"\n",
    "while len(stars) <= n:\n",
    "    print(stars)\n",
    "    stars += \"*\"\n"
   ]
  },
  {
   "cell_type": "code",
   "execution_count": null,
   "metadata": {
    "collapsed": false
   },
   "outputs": [],
   "source": [
    "i = 0\n",
    "while i < 3:\n",
    "    a, b = input().split()\n",
    "    a = int(a)\n",
    "    b = int(b)\n",
    "    if(a == 0) and (b == 0):\n",
    "        print(\"Цикл завершен вы ввели два 0\")\n",
    "        break \n",
    "        \n",
    "    print(a * b)\n",
    "    i += 1\n",
    "else:\n",
    "    print(\"Вы ввели \" + str(i) + \" пар чисел\")\n",
    "    "
   ]
  },
  {
   "cell_type": "code",
   "execution_count": 1,
   "metadata": {
    "collapsed": false
   },
   "outputs": [
    {
     "name": "stdout",
     "output_type": "stream",
     "text": [
      "4\n",
      "9\n",
      "25\n"
     ]
    }
   ],
   "source": [
    "for i in 2, 3, 5:\n",
    "    print(i * i)"
   ]
  },
  {
   "cell_type": "code",
   "execution_count": 2,
   "metadata": {
    "collapsed": false
   },
   "outputs": [
    {
     "name": "stdout",
     "output_type": "stream",
     "text": [
      "0\n",
      "1\n",
      "4\n",
      "9\n",
      "16\n",
      "25\n",
      "36\n",
      "49\n",
      "64\n",
      "81\n"
     ]
    }
   ],
   "source": [
    "for i in range(10):\n",
    "    print (i * i)"
   ]
  },
  {
   "cell_type": "code",
   "execution_count": 3,
   "metadata": {
    "collapsed": false
   },
   "outputs": [
    {
     "name": "stdout",
     "output_type": "stream",
     "text": [
      "4\n",
      "9\n",
      "16\n"
     ]
    }
   ],
   "source": [
    "for i in range(2, 5):\n",
    "    print (i * i)"
   ]
  },
  {
   "cell_type": "code",
   "execution_count": 4,
   "metadata": {
    "collapsed": false
   },
   "outputs": [
    {
     "name": "stdout",
     "output_type": "stream",
     "text": [
      "4\n",
      "36\n",
      "100\n",
      "196\n"
     ]
    }
   ],
   "source": [
    "for i in range(2, 15, 4):\n",
    "    print (i * i)"
   ]
  },
  {
   "cell_type": "code",
   "execution_count": 6,
   "metadata": {
    "collapsed": false
   },
   "outputs": [
    {
     "name": "stdout",
     "output_type": "stream",
     "text": [
      "6\n",
      ":):):):):):)\n",
      ":):):):):):)\n",
      ":):):):):):)\n",
      ":):):):):):)\n",
      ":):):):):):)\n",
      ":):):):):):)\n"
     ]
    }
   ],
   "source": [
    "n = int(input())\n",
    "for i in range(n):\n",
    "    print(':)' * n)\n"
   ]
  },
  {
   "cell_type": "code",
   "execution_count": 11,
   "metadata": {
    "collapsed": false
   },
   "outputs": [
    {
     "name": "stdout",
     "output_type": "stream",
     "text": [
      "******\n",
      "******\n",
      "******\n",
      "******\n",
      "******\n"
     ]
    }
   ],
   "source": [
    "for i in range(5):\n",
    "    for i in range(6):\n",
    "        print('*', end = '')\n",
    "    print()\n"
   ]
  },
  {
   "cell_type": "code",
   "execution_count": 7,
   "metadata": {
    "collapsed": false
   },
   "outputs": [
    {
     "name": "stdout",
     "output_type": "stream",
     "text": [
      "5 9\n",
      "21\n"
     ]
    }
   ],
   "source": [
    "a, b = input().split()\n",
    "a = int(a)\n",
    "b = int(b)\n",
    "s = 0\n",
    "for i in range(a, b + 1):\n",
    "    if i % 2 == 1:\n",
    "        s += i\n",
    "print(s)\n"
   ]
  },
  {
   "cell_type": "code",
   "execution_count": 8,
   "metadata": {
    "collapsed": false
   },
   "outputs": [
    {
     "name": "stdout",
     "output_type": "stream",
     "text": [
      "3 7\n",
      "15\n"
     ]
    }
   ],
   "source": [
    "a, b = input().split()\n",
    "a = int(a)\n",
    "b = int(b)\n",
    "s = 0\n",
    "if a % 2 == 0:\n",
    "    a += 1\n",
    "for i in range (a, b + 1, 2):\n",
    "    s += i\n",
    "print(s)"
   ]
  },
  {
   "cell_type": "code",
   "execution_count": null,
   "metadata": {
    "collapsed": true
   },
   "outputs": [],
   "source": [
    "a, b = (int(i) for i in input().split())\n",
    "s = 0\n",
    "ifa % \n"
   ]
  }
 ],
 "metadata": {
  "kernelspec": {
   "display_name": "Python 3",
   "language": "python",
   "name": "python3"
  },
  "language_info": {
   "codemirror_mode": {
    "name": "ipython",
    "version": 3
   },
   "file_extension": ".py",
   "mimetype": "text/x-python",
   "name": "python",
   "nbconvert_exporter": "python",
   "pygments_lexer": "ipython3",
   "version": "3.5.1"
  }
 },
 "nbformat": 4,
 "nbformat_minor": 0
}
